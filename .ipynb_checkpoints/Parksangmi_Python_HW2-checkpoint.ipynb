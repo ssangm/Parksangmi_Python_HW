{
 "cells": [
  {
   "cell_type": "markdown",
   "id": "ed927457",
   "metadata": {},
   "source": [
    "### 단순연결리스트-2"
   ]
  },
  {
   "cell_type": "code",
   "execution_count": 23,
   "id": "69886fdf",
   "metadata": {},
   "outputs": [],
   "source": [
    "class Node():\n",
    "    def __init__(self):\n",
    "        self.data = None\n",
    "        self.link = None"
   ]
  },
  {
   "cell_type": "code",
   "execution_count": 24,
   "id": "b0ad0a4a",
   "metadata": {},
   "outputs": [],
   "source": [
    "import random\n",
    "\n",
    "def lotto():\n",
    "    dataArray = random.sample(range(1,46),6)\n",
    "    head = Node()\n",
    "    head.data = dataArray[0]\n",
    "    current = head\n",
    "    for i in range(1, 6):\n",
    "        node = Node()\n",
    "        node.data = dataArray[i]\n",
    "        pre = current\n",
    "        current = node\n",
    "        pre.link = node\n",
    "    print(\"%d\" % head.data, end = '')\n",
    "    current = head\n",
    "    while current.link != None:\n",
    "        current = current.link\n",
    "        print(\",%d\" % current.data, end = '')"
   ]
  },
  {
   "cell_type": "code",
   "execution_count": 25,
   "id": "8e3d493d",
   "metadata": {},
   "outputs": [
    {
     "name": "stdout",
     "output_type": "stream",
     "text": [
      "17,14,16,42,36,44"
     ]
    }
   ],
   "source": [
    "head, current, pre = None, None, None\n",
    "lotto()"
   ]
  },
  {
   "cell_type": "markdown",
   "id": "ae1cd20e",
   "metadata": {},
   "source": [
    "### 원형연결리스트-1"
   ]
  },
  {
   "cell_type": "code",
   "execution_count": 22,
   "id": "6198cf9e",
   "metadata": {},
   "outputs": [
    {
     "name": "stdout",
     "output_type": "stream",
     "text": [
      "I 편의점, 거리:10.770330\n",
      "H 편의점, 거리:23.430749\n",
      "D 편의점, 거리:33.015148\n",
      "J 편의점, 거리:46.529560\n",
      "E 편의점, 거리:49.819675\n",
      "C 편의점, 거리:65.122961\n",
      "B 편의점, 거리:65.924199\n",
      "F 편의점, 거리:93.407708\n",
      "A 편의점, 거리:99.809819\n",
      "G 편의점, 거리:106.174385\n"
     ]
    }
   ],
   "source": [
    "import random, math\n",
    "memory=[]\n",
    "dataArray=[_ for i in range(10)]\n",
    "dataArray[0]=(\"A\",random.randint(1,100),random.randint(1,100))\n",
    "dataArray[1]=(\"B\",random.randint(1,100),random.randint(1,100))\n",
    "dataArray[2]=(\"C\",random.randint(1,100),random.randint(1,100))\n",
    "dataArray[3]=(\"D\",random.randint(1,100),random.randint(1,100))\n",
    "dataArray[4]=(\"E\",random.randint(1,100),random.randint(1,100))\n",
    "dataArray[5]=(\"F\",random.randint(1,100),random.randint(1,100))\n",
    "dataArray[6]=(\"G\",random.randint(1,100),random.randint(1,100))\n",
    "dataArray[7]=(\"H\",random.randint(1,100),random.randint(1,100))\n",
    "dataArray[8]=(\"I\",random.randint(1,100),random.randint(1,100))\n",
    "dataArray[9]=(\"J\",random.randint(1,100),random.randint(1,100))\n",
    "\n",
    "if __name__==\"__main__\":\n",
    "    node=Node()\n",
    "    node.data=dataArray[0]\n",
    "    head=node\n",
    "    node.link=head\n",
    "    for data in dataArray[1:]:\n",
    "        node=Node()\n",
    "        node.data=data\n",
    "        if math.sqrt(head.data[1]**2+head.data[2]**2)>math.sqrt(data[1]**2+data[2]**2):\n",
    "            node.link=head\n",
    "            last=head\n",
    "            while last.link!=head:\n",
    "                last=last.link\n",
    "            last.link=node\n",
    "            head=node\n",
    "        else:\n",
    "            current=head\n",
    "            while current.link!=head:\n",
    "                pre=current\n",
    "                current=current.link\n",
    "                if math.sqrt(current.data[1]**2+current.data[2]**2)>math.sqrt(data[1]**2+data[2]**2):\n",
    "                    node.link=current\n",
    "                    pre.link=node\n",
    "                    break\n",
    "            if current.link==head and node.link==None:\n",
    "                current.link=node\n",
    "                node.link=head\n",
    "\n",
    "    current=head\n",
    "    while current.link!=head:\n",
    "        print(\"%s 편의점, 거리:%f\"%(current.data[0],math.sqrt(current.data[1]**2+current.data[2]**2)))\n",
    "        current=current.link\n",
    "    print(\"%s 편의점, 거리:%f\"%(current.data[0],math.sqrt(current.data[1]**2+current.data[2]**2)))"
   ]
  },
  {
   "cell_type": "markdown",
   "id": "691654b7",
   "metadata": {},
   "source": [
    "### 스택-2"
   ]
  },
  {
   "cell_type": "code",
   "execution_count": 29,
   "id": "6dee6e56",
   "metadata": {},
   "outputs": [],
   "source": [
    "def isStackFull():\n",
    "    global SIZE, stack, top\n",
    "    if (top>=SIZE-1):\n",
    "        return True\n",
    "    else: return False"
   ]
  },
  {
   "cell_type": "code",
   "execution_count": 46,
   "id": "150660ba",
   "metadata": {},
   "outputs": [],
   "source": [
    "def push(data):\n",
    "    global SIZE, stack, top\n",
    "    if (isStackFull()):\n",
    "        print('스택이 꽉 찼습니다.')\n",
    "        return\n",
    "    top += 1\n",
    "    stack[top]=data"
   ]
  },
  {
   "cell_type": "code",
   "execution_count": 47,
   "id": "d4e7c5ad",
   "metadata": {},
   "outputs": [],
   "source": [
    "def isStackEmpty():\n",
    "    global SIZE, stack, top\n",
    "    if (top==-1):\n",
    "        return True\n",
    "    else: return False"
   ]
  },
  {
   "cell_type": "code",
   "execution_count": 48,
   "id": "6a9365e7",
   "metadata": {},
   "outputs": [],
   "source": [
    "def pop():\n",
    "    global SIZE, stack, top\n",
    "    if (isStackEmpty()):\n",
    "        print('스택이 비었습니다.')\n",
    "        return\n",
    "    data = stack[top]\n",
    "    stack[top] = None\n",
    "    top -=1\n",
    "    return data"
   ]
  },
  {
   "cell_type": "code",
   "execution_count": 54,
   "id": "b10d9fae",
   "metadata": {},
   "outputs": [],
   "source": [
    "original = '''진달래꽃\n",
    "나 보기가 역겨워\n",
    "가실 때에는\n",
    "말없이 고이 보내드리오리다.'''"
   ]
  },
  {
   "cell_type": "code",
   "execution_count": 55,
   "id": "68664002",
   "metadata": {},
   "outputs": [],
   "source": [
    "SIZE = len(original)\n",
    "stack = [None for _ in range(SIZE)]\n",
    "top = -1\n",
    "for ch in original:\n",
    "    push(ch)"
   ]
  },
  {
   "cell_type": "code",
   "execution_count": 56,
   "id": "07635eea",
   "metadata": {},
   "outputs": [
    {
     "name": "stdout",
     "output_type": "stream",
     "text": [
      "---- 원본 ----\n",
      "진달래꽃\n",
      "나 보기가 역겨워\n",
      "가실 때에는\n",
      "말없이 고이 보내드리오리다.\n",
      "---- 거꾸로 처리된 결과 ----\n",
      ".다리오리드내보 이고 이없말\n",
      "는에때 실가\n",
      "워겨역 가기보 나\n",
      "꽃래달진"
     ]
    }
   ],
   "source": [
    "print('---- 원본 ----')\n",
    "print(original)\n",
    "print('---- 거꾸로 처리된 결과 ----')\n",
    "for _ in range(SIZE):\n",
    "    print(pop(), end = '')"
   ]
  },
  {
   "cell_type": "markdown",
   "id": "ec076d71",
   "metadata": {},
   "source": [
    "### 큐-2"
   ]
  },
  {
   "cell_type": "code",
   "execution_count": 90,
   "id": "a3166947",
   "metadata": {},
   "outputs": [],
   "source": [
    "def enQueue(data):\n",
    "    global SIZE, queue, front, rear\n",
    "    rear = (rear+1) % SIZE\n",
    "    queue[rear] = data"
   ]
  },
  {
   "cell_type": "code",
   "execution_count": 91,
   "id": "b2eaa65d",
   "metadata": {},
   "outputs": [],
   "source": [
    "SIZE = 5\n",
    "queue = [None for _ in range(SIZE)]\n",
    "front = rear = 0\n",
    "time = 0\n",
    "sample = [('사용',9), ('고장', 3), ('환불', 4), ('환불', 4), ('고장', 3)]"
   ]
  },
  {
   "cell_type": "code",
   "execution_count": 92,
   "id": "8bb12f50",
   "metadata": {},
   "outputs": [
    {
     "name": "stdout",
     "output_type": "stream",
     "text": [
      "귀하의 대기 예상시간은 0 분입니다.\n",
      "현재 대기 콜 --> [None, None, None, None, None]\n",
      "귀하의 대기 예상시간은 9 분입니다.\n",
      "현재 대기 콜 --> [None, ('사용', 9), None, None, None]\n",
      "귀하의 대기 예상시간은 12 분입니다.\n",
      "현재 대기 콜 --> [None, ('사용', 9), ('고장', 3), None, None]\n",
      "귀하의 대기 예상시간은 16 분입니다.\n",
      "현재 대기 콜 --> [None, ('사용', 9), ('고장', 3), ('환불', 4), None]\n",
      "귀하의 대기 예상시간은 20 분입니다.\n",
      "현재 대기 콜 --> [None, ('사용', 9), ('고장', 3), ('환불', 4), ('환불', 4)]\n",
      "최종 대기 콜 --> [('고장', 3), ('사용', 9), ('고장', 3), ('환불', 4), ('환불', 4)]\n",
      "프로그램 종료!\n"
     ]
    }
   ],
   "source": [
    "for i in sample:\n",
    "    print('귀하의 대기 예상시간은 %d 분입니다.' % time)\n",
    "    print('현재 대기 콜 -->', queue)\n",
    "    enQueue(i)\n",
    "    time += i[1]\n",
    "print('최종 대기 콜 -->', queue)\n",
    "print('프로그램 종료!')"
   ]
  }
 ],
 "metadata": {
  "kernelspec": {
   "display_name": "Python 3 (ipykernel)",
   "language": "python",
   "name": "python3"
  },
  "language_info": {
   "codemirror_mode": {
    "name": "ipython",
    "version": 3
   },
   "file_extension": ".py",
   "mimetype": "text/x-python",
   "name": "python",
   "nbconvert_exporter": "python",
   "pygments_lexer": "ipython3",
   "version": "3.9.12"
  }
 },
 "nbformat": 4,
 "nbformat_minor": 5
}
