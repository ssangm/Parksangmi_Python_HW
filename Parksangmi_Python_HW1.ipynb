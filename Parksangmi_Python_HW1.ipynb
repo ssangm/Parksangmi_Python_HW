{
 "cells": [
  {
   "cell_type": "code",
   "execution_count": 2,
   "id": "2425f7bd",
   "metadata": {},
   "outputs": [
    {
     "name": "stdout",
     "output_type": "stream",
     "text": [
      "선택하세요(1: 추가, 2: 삭제, 3: 종료)--> 1\n",
      "추가할 데이터--> ('다현',200)\n",
      "[('다현', 200)]\n",
      "선택하세요(1: 추가, 2: 삭제, 3: 종료)--> 1\n",
      "추가할 데이터--> ('정연',150)\n",
      "[('다현', 200), ('정연', 150)]\n",
      "선택하세요(1: 추가, 2: 삭제, 3: 종료)--> 1\n",
      "추가할 데이터--> ('모모',170)\n",
      "[('다현', 200), ('모모', 170), ('정연', 150)]\n",
      "선택하세요(1: 추가, 2: 삭제, 3: 종료)--> 2\n",
      "삭제할 위치--> 2\n",
      "[('다현', 200), ('모모', 170)]\n",
      "선택하세요(1: 추가, 2: 삭제, 3: 종료)--> 2\n",
      "삭제할 위치--> 3\n",
      "삭제할 데이터가 존재하지 않습니다.\n",
      "[('다현', 200), ('모모', 170)]\n",
      "선택하세요(1: 추가, 2: 삭제, 3: 종료)--> 3\n",
      "[('다현', 200), ('모모', 170)]\n"
     ]
    }
   ],
   "source": [
    "def add_data(friend):\n",
    "\n",
    "    if katok == [] or katok[len(katok)-1][1]>friend[1]:\n",
    "        katok.append((None,))\n",
    "        katok[len(katok)-1]=friend\n",
    "    else:\n",
    "        for i in range(0, len(katok)):\n",
    "            if int(katok[i][1])<int(friend[1]):\n",
    "                katok.append((None,))\n",
    "                kLen=len(katok)\n",
    "                for r in range(kLen-1, i, -1):\n",
    "                    katok[r]=katok[r-1]\n",
    "                    katok[r-1]=None\n",
    "                katok[i]=friend\n",
    "\n",
    "def delete_data(position):\n",
    "    if position<0 or position>=len(katok):\n",
    "        print('삭제할 데이터가 존재하지 않습니다.')\n",
    "        return\n",
    "    \n",
    "    kLen = len(katok)\n",
    "    katok[position]=None\n",
    "    \n",
    "    for i in range(position+1, kLen):\n",
    "        katok[i-1]=katok[i]\n",
    "        katok[i]=None\n",
    "        \n",
    "    del(katok[kLen-1])\n",
    "    \n",
    "katok=[]\n",
    "select=-1\n",
    "\n",
    "if __name__ == \"__main__\":\n",
    "    \n",
    "    while (select != 3):\n",
    "        \n",
    "        select = int(input(\"선택하세요(1: 추가, 2: 삭제, 3: 종료)--> \"))\n",
    "        \n",
    "        if (select == 1):\n",
    "            data = eval(input(\"추가할 데이터--> \"))\n",
    "            add_data(data)\n",
    "            print(katok)\n",
    "        elif (select == 2):\n",
    "            pos = int(input(\"삭제할 위치--> \"))\n",
    "            delete_data(pos)\n",
    "            print(katok)\n",
    "        elif (select == 3):\n",
    "            print(katok)\n",
    "            exit\n",
    "        else :\n",
    "            print(\"1~3 중 하나를 입력하세요.\")\n",
    "            continue"
   ]
  }
 ],
 "metadata": {
  "kernelspec": {
   "display_name": "Python 3 (ipykernel)",
   "language": "python",
   "name": "python3"
  },
  "language_info": {
   "codemirror_mode": {
    "name": "ipython",
    "version": 3
   },
   "file_extension": ".py",
   "mimetype": "text/x-python",
   "name": "python",
   "nbconvert_exporter": "python",
   "pygments_lexer": "ipython3",
   "version": "3.9.12"
  }
 },
 "nbformat": 4,
 "nbformat_minor": 5
}
